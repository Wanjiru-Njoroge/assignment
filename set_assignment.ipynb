{
 "cells": [
  {
   "cell_type": "markdown",
   "id": "89334b27",
   "metadata": {},
   "source": [
    "# Set lab assignment "
   ]
  },
  {
   "cell_type": "markdown",
   "id": "2f336316",
   "metadata": {},
   "source": [
    "##### Name : Cameline Njoroge\n",
    "\n",
    "#### Objective \n",
    "- To show my understanding of sets \n",
    "\n",
    "\n",
    "\n",
    "\n",
    "\n"
   ]
  },
  {
   "cell_type": "code",
   "execution_count": null,
   "id": "9c2fb207",
   "metadata": {},
   "outputs": [],
   "source": [
    "## listing the sets and the universal set \n",
    "\n",
    "# Set A: Even numbers between 1 and 10\n",
    "A = {2, 4, 6, 8, 10}\n",
    "# Set B: {3, 8, 11, 12}\n",
    "B = {3, 8, 11, 12}\n",
    "# Set C: {2, 3, 6, 8, 9, 11}\n",
    "C = {2, 3, 6, 8, 9, 11}\n",
    "# Universal set U: positive integers between 1 and 12\n",
    "U = {1, 2, 3, 4, 5, 6, 7, 8, 9, 10, 11, 12}\n",
    "\n"
   ]
  },
  {
   "cell_type": "code",
   "execution_count": null,
   "id": "ca54048c",
   "metadata": {},
   "outputs": [],
   "source": [
    "\n",
    "# A ∩ B: Intersection of A and B – elements common to both sets\n",
    "ans1= {8}\n",
    "\n",
    "# A ∪ C: Union of A and C – all unique elements from both sets\n",
    "ans2= {2, 3, 4, 6, 8, 9, 10, 11}\n",
    "\n",
    "# Aᶜ: Complement of A – elements in the universal set U that are not in A\n",
    "ans3 = {1, 3, 5, 7, 9, 11, 12}\n",
    "\n",
    "# Bᶜ: Complement of B – elements in U that are not in B\n",
    "ans4 = {1, 2, 4, 5, 6, 7, 9, 10}\n",
    "\n",
    "# (A ∪ B)ᶜ: Complement of the union of A and B – elements in U not in A or B\n",
    "ans5= {1, 5, 7, 9}\n",
    "\n",
    "# B ∩ Cᶜ: Elements in B that are not in C (difference of B and C)\n",
    "ans6 = {12}\n",
    "\n",
    "# A \\ B: Elements in A that are not in B (difference of A and B)\n",
    "ans7 = {2, 4, 6, 10}\n",
    "\n",
    "# C \\ (B \\ A): Elements in C that are not in (B minus A)\n",
    "ans8 = {2, 6, 8, 9}\n",
    "\n",
    "# (C ∩ A) ∪ (C \\ B): Elements common to C and A OR elements in C not in B\n",
    "ans9 = {2, 6, 8, 9}\n"
   ]
  },
  {
   "cell_type": "markdown",
   "id": "129ef33a",
   "metadata": {},
   "source": [
    "##### verification with python "
   ]
  },
  {
   "cell_type": "code",
   "execution_count": 50,
   "id": "c8e54ea2",
   "metadata": {},
   "outputs": [
    {
     "data": {
      "text/plain": [
       "True"
      ]
     },
     "execution_count": 50,
     "metadata": {},
     "output_type": "execute_result"
    }
   ],
   "source": [
    "\n",
    "A_inters_B = A & B\n",
    "A_inters_B == ans1"
   ]
  },
  {
   "cell_type": "code",
   "execution_count": 51,
   "id": "1b57c1b1",
   "metadata": {},
   "outputs": [
    {
     "data": {
      "text/plain": [
       "True"
      ]
     },
     "execution_count": 51,
     "metadata": {},
     "output_type": "execute_result"
    }
   ],
   "source": [
    "\n",
    "A_union_C = A | C\n",
    "A_union_C == ans2"
   ]
  },
  {
   "cell_type": "code",
   "execution_count": 52,
   "id": "97a6c087",
   "metadata": {},
   "outputs": [
    {
     "data": {
      "text/plain": [
       "True"
      ]
     },
     "execution_count": 52,
     "metadata": {},
     "output_type": "execute_result"
    }
   ],
   "source": [
    "\n",
    "A_comp = U - A\n",
    "A_comp == ans3"
   ]
  },
  {
   "cell_type": "code",
   "execution_count": 53,
   "id": "e04515b2",
   "metadata": {},
   "outputs": [
    {
     "data": {
      "text/plain": [
       "True"
      ]
     },
     "execution_count": 53,
     "metadata": {},
     "output_type": "execute_result"
    }
   ],
   "source": [
    "\n",
    "B_comp = U - B\n",
    "B_comp == ans4"
   ]
  },
  {
   "cell_type": "code",
   "execution_count": 54,
   "id": "1c4bb0cd",
   "metadata": {},
   "outputs": [
    {
     "data": {
      "text/plain": [
       "True"
      ]
     },
     "execution_count": 54,
     "metadata": {},
     "output_type": "execute_result"
    }
   ],
   "source": [
    "\n",
    "A_union_B_comp = U - (A | B)\n",
    "A_union_B_comp == ans5"
   ]
  },
  {
   "cell_type": "code",
   "execution_count": 55,
   "id": "ebc13e19",
   "metadata": {},
   "outputs": [
    {
     "data": {
      "text/plain": [
       "True"
      ]
     },
     "execution_count": 55,
     "metadata": {},
     "output_type": "execute_result"
    }
   ],
   "source": [
    "\n",
    "B_inters_C_comp =B - C\n",
    "B_inters_C_comp == ans6"
   ]
  },
  {
   "cell_type": "code",
   "execution_count": null,
   "id": "7d8b53fd",
   "metadata": {},
   "outputs": [
    {
     "data": {
      "text/plain": [
       "True"
      ]
     },
     "execution_count": 23,
     "metadata": {},
     "output_type": "execute_result"
    }
   ],
   "source": [
    "\n",
    "compl_of_B = A-B\n",
    "compl_of_B == ans7"
   ]
  },
  {
   "cell_type": "code",
   "execution_count": 30,
   "id": "2e0bc396",
   "metadata": {},
   "outputs": [
    {
     "data": {
      "text/plain": [
       "True"
      ]
     },
     "execution_count": 30,
     "metadata": {},
     "output_type": "execute_result"
    }
   ],
   "source": [
    "\n",
    "C_compl_B_compl_A = C - (B - A)\n",
    "C_compl_B_compl_A == ans8"
   ]
  },
  {
   "cell_type": "code",
   "execution_count": 29,
   "id": "e44ea219",
   "metadata": {},
   "outputs": [
    {
     "data": {
      "text/plain": [
       "True"
      ]
     },
     "execution_count": 29,
     "metadata": {},
     "output_type": "execute_result"
    }
   ],
   "source": [
    "\n",
    "C_inters_A_union_C_min_B = (C & A) | (C - B)\n",
    "C_inters_A_union_C_min_B == ans9\n"
   ]
  },
  {
   "cell_type": "markdown",
   "id": "98c65438",
   "metadata": {},
   "source": [
    "#### The inclusion exclusion principle\n",
    "- Verify the Inclusion-Exclusion Principle for sets A, B, and C\n",
    "- This principle ensures that the total number of unique elements across all sets\n",
    "- is calculated accurately by accounting for overlaps (intersections)\n",
    "##### ∣A∪B∪C∣=∣A∣+∣B∣+∣C∣−∣A∩B∣−∣A∩C∣−∣B∩C∣+∣A∩B∩C∣\n"
   ]
  },
  {
   "cell_type": "code",
   "execution_count": null,
   "metadata": {},
   "outputs": [],
   "source": []
  },
  {
   "cell_type": "code",
   "execution_count": null,
   "id": "7b16c8c7",
   "metadata": {},
   "outputs": [
    {
     "name": "stdout",
     "output_type": "stream",
     "text": [
      "9\n",
      "9\n",
      "True\n"
     ]
    }
   ],
   "source": [
    "left_hand_eq = len(A | B | C)\n",
    "right_hand_eq = (\n",
    "    len(A) + len(B) + len(C)\n",
    "    - len(A & B) - len(A & C) - len(B & C)\n",
    "    + len(A & B & C)\n",
    ")\n",
    "\n",
    "print(left_hand_eq)        \n",
    "print(right_hand_eq)        \n",
    "print(left_hand_eq == right_hand_eq)\n",
    "\n"
   ]
  },
  {
   "cell_type": "markdown",
   "id": "f8650276",
   "metadata": {},
   "source": [
    " ### Set in python "
   ]
  },
  {
   "cell_type": "code",
   "execution_count": null,
   "id": "25c46f8f",
   "metadata": {},
   "outputs": [
    {
     "name": "stdout",
     "output_type": "stream",
     "text": [
      "{'Rabbit', 'Goldfish'}\n"
     ]
    }
   ],
   "source": [
    "#The list of pets owned by the girls  people\n",
    "# The remeoval of the turtle from Eve's set\n",
    "Nina = set([\"Cat\",\"Dog\",\"Rabbit\",\"Donkey\",\"Parrot\", \"Goldfish\"])\n",
    "Mary = set([\"Dog\",\"Chinchilla\",\"Horse\", \"Chicken\"])\n",
    "Eve = set([\"Rabbit\", \"Turtle\", \"Goldfish\"])\n",
    "Eve.discard(\"Turtle\")\n",
    "print(Eve) \n"
   ]
  },
  {
   "cell_type": "code",
   "execution_count": null,
   "id": "b9e95c84",
   "metadata": {},
   "outputs": [
    {
     "name": "stdout",
     "output_type": "stream",
     "text": [
      "{'Cat', 'Chicken', 'Dog', 'Donkey', 'Rabbit', 'Parrot', 'Horse', 'Chinchilla', 'Goldfish'}\n"
     ]
    }
   ],
   "source": [
    "#adding Marys animals to nina \n",
    "Nina.update(Mary)\n",
    "print(Nina)  \n",
    "\n"
   ]
  },
  {
   "cell_type": "code",
   "execution_count": null,
   "id": "ac382bef",
   "metadata": {},
   "outputs": [
    {
     "name": "stdout",
     "output_type": "stream",
     "text": [
      "set()\n"
     ]
    }
   ],
   "source": [
    "# Emptying Mary's set as she is away \n",
    "Mary.clear()\n",
    "print(Mary)  \n"
   ]
  },
  {
   "cell_type": "code",
   "execution_count": null,
   "id": "176d057c",
   "metadata": {},
   "outputs": [
    {
     "name": "stdout",
     "output_type": "stream",
     "text": [
      "9\n"
     ]
    }
   ],
   "source": [
    "# Counting the number of species in Nina's set\n",
    "n_species_Nina = len(Nina)\n",
    "print(n_species_Nina)  \n"
   ]
  },
  {
   "cell_type": "code",
   "execution_count": null,
   "id": "9f9d0654",
   "metadata": {},
   "outputs": [
    {
     "name": "stdout",
     "output_type": "stream",
     "text": [
      "{'Cat', 'Chicken', 'Dog', 'Donkey', 'Parrot', 'Horse', 'Chinchilla'}\n"
     ]
    }
   ],
   "source": [
    "# Removing Eve's pets from Nina's set\n",
    "Nina.difference_update(Eve)\n",
    "print(Nina)  \n"
   ]
  },
  {
   "cell_type": "markdown",
   "id": "1091a649",
   "metadata": {},
   "source": [
    "####  Highway exit problem "
   ]
  },
  {
   "cell_type": "code",
   "execution_count": null,
   "id": "7413d3dd",
   "metadata": {},
   "outputs": [],
   "source": [
    "# set  of all possible outcomes assuming that all three cars drive in the same direction.\n",
    "setA = {(L , L , L ), (S, S, S), (R, R, R)}\n",
    "\n",
    "# setB: All possible outcomes with different directions\n",
    "setB = {(L, S, R), (L, R, S), (S, L, R), (S, R, L), (R, L, S), (R, S, L)}\n",
    "\n",
    "# SetC: All possible outcomes with two cars driving in the same direction\n",
    "SetC = {(R, R, L), (R, R, S), (L, R, R), (S, R, R), (R, L, R), (R, S, R)}\n",
    "\n",
    "# SetD: All possible outcomes with one car driving in a different direction\n",
    "SetD = {\n",
    "    ('L', 'L', 'S'), ('L', 'S', 'L'), ('S', 'L', 'L'),\n",
    "    ('L', 'L', 'R'), ('L', 'R', 'L'), ('R', 'L', 'L'),\n",
    "    ('S', 'S', 'L'), ('S', 'L', 'S'), ('L', 'S', 'S'),\n",
    "    ('S', 'S', 'R'), ('S', 'R', 'S'), ('R', 'S', 'S'),\n",
    "    ('R', 'R', 'L'), ('R', 'L', 'R'), ('L', 'R', 'R'),\n",
    "    ('R', 'R', 'S'), ('R', 'S', 'R'), ('S', 'R', 'R')\n",
    "}\n",
    "\n",
    "\n"
   ]
  },
  {
   "cell_type": "code",
   "execution_count": null,
   "id": "8e9497a4",
   "metadata": {},
   "outputs": [],
   "source": [
    "# D ′: The complement of D\n",
    "\n",
    "D'= {\n",
    "    ('L', 'L', 'L'), ('S', 'S', 'S'), ('R', 'R', 'R'),\n",
    "    ('L', 'S', 'R'), ('L', 'R', 'S'), ('S', 'L', 'R'),\n",
    "    ('S', 'R', 'L'), ('R', 'L', 'S'), ('R', 'S', 'L')\n",
    "}\n"
   ]
  },
  {
   "cell_type": "code",
   "execution_count": null,
   "id": "4c8f8ecd",
   "metadata": {},
   "outputs": [],
   "source": [
    "# 𝐶 ∩ 𝐷 C∩D: Intersection of C and D\n",
    "C ∩ D = {\n",
    "    ('R', 'R', 'L'), ('R', 'R', 'S'), \n",
    "    ('L', 'R', 'R'), ('S', 'R', 'R'), \n",
    "    ('R', 'L', 'R'), ('R', 'S', 'R')\n",
    "}\n"
   ]
  },
  {
   "cell_type": "code",
   "execution_count": null,
   "id": "d7fe8153",
   "metadata": {},
   "outputs": [],
   "source": [
    "# 𝐶 ∪ 𝐷 C∪D: Union of C and D\n",
    "C ∪ D = {\n",
    "    ('L', 'L', 'S'), ('L', 'S', 'L'), ('S', 'L', 'L'),\n",
    "    ('L', 'L', 'R'), ('L', 'R', 'L'), ('R', 'L', 'L'),\n",
    "    ('S', 'S', 'L'), ('S', 'L', 'S'), ('L', 'S', 'S'),\n",
    "    ('S', 'S', 'R'), ('S', 'R', 'S'), ('R', 'S', 'S'),\n",
    "    ('R', 'R', 'L'), ('R', 'L', 'R'), ('L', 'R', 'R'),\n",
    "    ('R', 'R', 'S'), ('R', 'S', 'R'), ('S', 'R', 'R')\n",
    "}\n"
   ]
  },
  {
   "cell_type": "code",
   "execution_count": null,
   "id": "39e61125",
   "metadata": {},
   "outputs": [],
   "source": [
    "import pandas as pd\n",
    "\n",
    "# Load Europe and EU\n",
    "europe = pd.read_excel('Europe_and_EU.xlsx', sheet_name = 'Europe') \n",
    "eu = pd.read_excel('Europe_and_EU.xlsx', sheet_name = 'EU')\n",
    "\n",
    "# Clean the 'Country' column by stripping whitespace\n",
    "europe['Country'] = europe['Country'].str.strip()\n",
    "eu['Country'] = eu['Country'].str.strip()\n",
    "\n",
    "# Create sets for Europe and EU countries\n",
    "europe_set = set(europe['Country'])\n",
    "eu_set = set(eu['Country'])"
   ]
  },
  {
   "cell_type": "code",
   "execution_count": null,
   "id": "34861e66",
   "metadata": {},
   "outputs": [
    {
     "data": {
      "text/html": [
       "<div>\n",
       "<style scoped>\n",
       "    .dataframe tbody tr th:only-of-type {\n",
       "        vertical-align: middle;\n",
       "    }\n",
       "\n",
       "    .dataframe tbody tr th {\n",
       "        vertical-align: top;\n",
       "    }\n",
       "\n",
       "    .dataframe thead th {\n",
       "        text-align: right;\n",
       "    }\n",
       "</style>\n",
       "<table border=\"1\" class=\"dataframe\">\n",
       "  <thead>\n",
       "    <tr style=\"text-align: right;\">\n",
       "      <th></th>\n",
       "      <th>Rank</th>\n",
       "      <th>Country</th>\n",
       "      <th>2017 population</th>\n",
       "      <th>% of pop.</th>\n",
       "      <th>Average relative annual growth</th>\n",
       "      <th>Average absolute annual growth</th>\n",
       "      <th>Official figure</th>\n",
       "      <th>Date of last figure</th>\n",
       "      <th>Source</th>\n",
       "    </tr>\n",
       "  </thead>\n",
       "  <tbody>\n",
       "    <tr>\n",
       "      <th>0</th>\n",
       "      <td>1</td>\n",
       "      <td>Germany</td>\n",
       "      <td>82800000</td>\n",
       "      <td>16.18</td>\n",
       "      <td>0.76</td>\n",
       "      <td>628876</td>\n",
       "      <td>82576900</td>\n",
       "      <td>2017-03-31</td>\n",
       "      <td>Official estimate</td>\n",
       "    </tr>\n",
       "    <tr>\n",
       "      <th>1</th>\n",
       "      <td>2</td>\n",
       "      <td>France</td>\n",
       "      <td>67210459</td>\n",
       "      <td>13.10</td>\n",
       "      <td>0.40</td>\n",
       "      <td>265557</td>\n",
       "      <td>67174000</td>\n",
       "      <td>2018-01-01</td>\n",
       "      <td>Monthly official estimate</td>\n",
       "    </tr>\n",
       "    <tr>\n",
       "      <th>2</th>\n",
       "      <td>3</td>\n",
       "      <td>United Kingdom</td>\n",
       "      <td>65808573</td>\n",
       "      <td>12.86</td>\n",
       "      <td>0.65</td>\n",
       "      <td>428793</td>\n",
       "      <td>65648100</td>\n",
       "      <td>2017-06-30</td>\n",
       "      <td>Official estimate</td>\n",
       "    </tr>\n",
       "  </tbody>\n",
       "</table>\n",
       "</div>"
      ],
      "text/plain": [
       "   Rank         Country  2017 population  % of pop.  \\\n",
       "0     1        Germany          82800000      16.18   \n",
       "1     2          France         67210459      13.10   \n",
       "2     3  United Kingdom         65808573      12.86   \n",
       "\n",
       "   Average relative annual growth  Average absolute annual growth  \\\n",
       "0                            0.76                          628876   \n",
       "1                            0.40                          265557   \n",
       "2                            0.65                          428793   \n",
       "\n",
       "   Official figure Date of last figure                     Source  \n",
       "0         82576900          2017-03-31          Official estimate  \n",
       "1         67174000          2018-01-01  Monthly official estimate  \n",
       "2         65648100          2017-06-30          Official estimate  "
      ]
     },
     "execution_count": 42,
     "metadata": {},
     "output_type": "execute_result"
    }
   ],
   "source": [
    "\n",
    "eu.head(3)"
   ]
  },
  {
   "cell_type": "code",
   "execution_count": 45,
   "id": "05d9bdc0",
   "metadata": {},
   "outputs": [
    {
     "data": {
      "text/html": [
       "<div>\n",
       "<style scoped>\n",
       "    .dataframe tbody tr th:only-of-type {\n",
       "        vertical-align: middle;\n",
       "    }\n",
       "\n",
       "    .dataframe tbody tr th {\n",
       "        vertical-align: top;\n",
       "    }\n",
       "\n",
       "    .dataframe thead th {\n",
       "        text-align: right;\n",
       "    }\n",
       "</style>\n",
       "<table border=\"1\" class=\"dataframe\">\n",
       "  <thead>\n",
       "    <tr style=\"text-align: right;\">\n",
       "      <th></th>\n",
       "      <th>Rank</th>\n",
       "      <th>Country</th>\n",
       "      <th>Population</th>\n",
       "      <th>% of population</th>\n",
       "      <th>Average relative annual growth (%)</th>\n",
       "      <th>Average absolute annual growth</th>\n",
       "      <th>Estimated doubling time (Years)</th>\n",
       "      <th>Official figure (where available)</th>\n",
       "      <th>Date of last figure</th>\n",
       "      <th>Regional grouping</th>\n",
       "      <th>Source</th>\n",
       "    </tr>\n",
       "  </thead>\n",
       "  <tbody>\n",
       "    <tr>\n",
       "      <th>0</th>\n",
       "      <td>1.0</td>\n",
       "      <td>Russia</td>\n",
       "      <td>143964709</td>\n",
       "      <td>17.15</td>\n",
       "      <td>0.19</td>\n",
       "      <td>294285</td>\n",
       "      <td>368</td>\n",
       "      <td>146839993</td>\n",
       "      <td>2017-01-01 00:00:00</td>\n",
       "      <td>EAEU</td>\n",
       "      <td>[1]</td>\n",
       "    </tr>\n",
       "    <tr>\n",
       "      <th>1</th>\n",
       "      <td>2.0</td>\n",
       "      <td>Germany</td>\n",
       "      <td>82521653</td>\n",
       "      <td>9.80</td>\n",
       "      <td>1.20</td>\n",
       "      <td>600000</td>\n",
       "      <td>90</td>\n",
       "      <td>82800000</td>\n",
       "      <td>2016-12-31 00:00:00</td>\n",
       "      <td>EU</td>\n",
       "      <td>Official estimate</td>\n",
       "    </tr>\n",
       "    <tr>\n",
       "      <th>2</th>\n",
       "      <td>3.0</td>\n",
       "      <td>Turkey</td>\n",
       "      <td>80810000</td>\n",
       "      <td>9.60</td>\n",
       "      <td>1.34</td>\n",
       "      <td>1035000</td>\n",
       "      <td>52</td>\n",
       "      <td>77695904</td>\n",
       "      <td>2016-12-31 00:00:00</td>\n",
       "      <td>NaN</td>\n",
       "      <td>[2]</td>\n",
       "    </tr>\n",
       "  </tbody>\n",
       "</table>\n",
       "</div>"
      ],
      "text/plain": [
       "   Rank  Country  Population  % of population  \\\n",
       "0   1.0   Russia   143964709            17.15   \n",
       "1   2.0  Germany    82521653             9.80   \n",
       "2   3.0   Turkey    80810000             9.60   \n",
       "\n",
       "   Average relative annual growth (%)  Average absolute annual growth  \\\n",
       "0                                0.19                          294285   \n",
       "1                                1.20                          600000   \n",
       "2                                1.34                         1035000   \n",
       "\n",
       "  Estimated doubling time (Years)  Official figure (where available)  \\\n",
       "0                             368                          146839993   \n",
       "1                              90                           82800000   \n",
       "2                              52                           77695904   \n",
       "\n",
       "   Date of last figure Regional grouping             Source  \n",
       "0  2017-01-01 00:00:00             EAEU                 [1]  \n",
       "1  2016-12-31 00:00:00               EU   Official estimate  \n",
       "2  2016-12-31 00:00:00               NaN                [2]  "
      ]
     },
     "execution_count": 45,
     "metadata": {},
     "output_type": "execute_result"
    }
   ],
   "source": [
    "europe.head(3)"
   ]
  },
  {
   "cell_type": "code",
   "execution_count": null,
   "id": "7fad4345",
   "metadata": {},
   "outputs": [
    {
     "name": "stdout",
     "output_type": "stream",
     "text": [
      "True\n"
     ]
    }
   ],
   "source": [
    "# Check to confirm that the EU countries are a subset of countries in Europ\n",
    "print(eu_set.issubset(europe_set)) "
   ]
  },
  {
   "cell_type": "code",
   "execution_count": null,
   "id": "bb79d339",
   "metadata": {},
   "outputs": [
    {
     "name": "stdout",
     "output_type": "stream",
     "text": [
      "{'Monaco', 'Georgia', 'Iceland', 'Bosnia and Herzegovina', 'Switzerland', 'Andorra', 'Albania', 'Macedonia', 'Russia', 'Guernsey (UK)', 'Vatican City', 'Jersey (UK)', 'Belarus', 'Serbia', 'Moldova', 'Isle of Man (UK)', 'Faroe Islands (Denmark)', 'Norway', 'Armenia', 'Åland Islands (Finland)', 'Liechtenstein', 'Svalbard (Norway)', 'Montenegro', 'Gibraltar (UK)', 'San Marino', 'Turkey', 'Ukraine', 'Kosovo', 'Azerbaijan'}\n"
     ]
    }
   ],
   "source": [
    "## Find the set of countries that are in Europe but not the EU\n",
    "non_eu_countries = europe_set - eu_set\n",
    "print(non_eu_countries)"
   ]
  }
 ],
 "metadata": {
  "kernelspec": {
   "display_name": "base",
   "language": "python",
   "name": "python3"
  },
  "language_info": {
   "codemirror_mode": {
    "name": "ipython",
    "version": 3
   },
   "file_extension": ".py",
   "mimetype": "text/x-python",
   "name": "python",
   "nbconvert_exporter": "python",
   "pygments_lexer": "ipython3",
   "version": "3.12.7"
  }
 },
 "nbformat": 4,
 "nbformat_minor": 5
}
